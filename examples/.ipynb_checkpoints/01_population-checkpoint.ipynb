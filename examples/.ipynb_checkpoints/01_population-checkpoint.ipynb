{
 "cells": [
  {
   "cell_type": "markdown",
   "metadata": {},
   "source": [
    "### creating parameterised populations of nodes"
   ]
  },
  {
   "cell_type": "code",
   "execution_count": 1,
   "metadata": {},
   "outputs": [],
   "source": [
    "\n",
    "import nest\n",
    "import pylab as pl\n",
    "from sys import exit\n",
    "\n",
    "nest.ResetKernel()\n",
    "\n",
    "#the most basic way of creating a batch of identically\n",
    "# parameterised neurons is to exploit the optional \n",
    "# arguments of Create():\n",
    "ndict = {\"I_e\": 200.0, \"tau_m\": 20.0}\n",
    "neuronpop = nest.Create(\"iaf_psc_alpha\", 100, params=ndict)\n",
    "# neuronpop is a list of all the ids of the created neurons.\n",
    "# naming the neurons in population start from 1 (uncomment the next line)\n",
    "# print neuronpop \n",
    "\n",
    "# We can also set the parameters of a neuron model before \n",
    "# creation, which allows us to define a simulation more \n",
    "# concisely in many cases\n",
    "ndict = {\"I_e\": 200.0, \"tau_m\": 20.0}\n",
    "# nest.SetDefaults(model, params)\n",
    "nest.SetDefaults(\"iaf_psc_alpha\",ndict)\n",
    "\n",
    "neuronpop1 = nest.Create(\"iaf_psc_alpha\", 100)\n",
    "neuronpop2 = nest.Create(\"iaf_psc_alpha\", 100)\n",
    "neuronpop3 = nest.Create(\"iaf_psc_alpha\", 100)\n",
    "\n",
    "# check default values of the model\n",
    "# print nest.GetStatus(neuronpop1[1:10], \"I_e\")\n",
    "# print nest.GetDefaults('iaf_psc_alpha')['tau_m']\n",
    "# print nest.GetDefaults('iaf_psc_alpha')['I_e']\n",
    "\n",
    "# -------------------------------------------------- #\n",
    "# If batches of neurons should be of the same model but using \n",
    "# different parameters, it is handy to use CopyModel\n",
    "# to make a customised version of a neuron model with its own \n",
    "# default parameters. \n",
    "edict = {\"I_e\": 200.0, \"tau_m\": 20.0}\n",
    "# CopyModel(existing, new, params=None)\n",
    "nest.CopyModel(\"iaf_psc_alpha\", \"exc_iaf_neuron\")\n",
    "nest.SetDefaults(\"exc_iaf_neuron\",edict)\n",
    "\n",
    "# # or in one step ----------------------------------- #\n",
    "idict = {\"I_e\": 300.0}\n",
    "nest.CopyModel(\"iaf_psc_alpha\", \"inh_iaf_neuron\", params=idict)\n",
    "epop1 = nest.Create(\"exc_iaf_neuron\", 100)\n",
    "epop2 = nest.Create(\"exc_iaf_neuron\", 100)\n",
    "ipop1 = nest.Create(\"inh_iaf_neuron\", 30)\n",
    "ipop2 = nest.Create(\"inh_iaf_neuron\", 30)\n",
    "\n",
    "\n",
    "# populations with an inhomogeneous set of parameters\n",
    "# supply a list of dictionaries of the same length as\n",
    "# the number of neurons (or synapses) created\n",
    "parameter_list = [{\"I_e\": 200.0, \"tau_m\": 20.0},\n",
    "                  {\"I_e\": 150.0, \"tau_m\": 30.0}]\n",
    "epop3 = nest.Create(\"exc_iaf_neuron\", 2, parameter_list)  \n",
    "# print nest.GetStatus(epop3, ['I_e', 'tau_m'])\n"
   ]
  },
  {
   "cell_type": "markdown",
   "metadata": {},
   "source": [
    "### setting parameters for populations of neurons\n",
    "\n",
    "-  when some parameter should be drawn from a random distribution\n",
    "-  make a loop over the population and set the status of each one\n"
   ]
  },
  {
   "cell_type": "code",
   "execution_count": 2,
   "metadata": {},
   "outputs": [],
   "source": [
    "import numpy as np # to use random function\n",
    "Vth=-55.                  \n",
    "Vrest=-70.               \n",
    "for neuron in epop1:\n",
    "    nest.SetStatus([neuron], {\"V_m\": Vrest+(Vth-Vrest)*np.random.rand()})"
   ]
  },
  {
   "cell_type": "markdown",
   "metadata": {},
   "source": [
    "One way to do it is to give a list of dictionaries which is the same length as the number of nodes to be parameterised, for example using a list comprehension"
   ]
  },
  {
   "cell_type": "code",
   "execution_count": 3,
   "metadata": {},
   "outputs": [],
   "source": [
    "dVms =  [{\"V_m\": Vrest+(Vth-Vrest)*np.random.rand()} for x in epop1]\n",
    "nest.SetStatus(epop1, dVms)"
   ]
  },
  {
   "cell_type": "markdown",
   "metadata": {},
   "source": [
    "If we only need to randomise one parameter then there is a more concise way"
   ]
  },
  {
   "cell_type": "code",
   "execution_count": 5,
   "metadata": {},
   "outputs": [],
   "source": [
    "Vms = Vrest+(Vth-Vrest)*np.random.rand(len(epop1))\n",
    "nest.SetStatus(epop1, \"V_m\", Vms)"
   ]
  },
  {
   "cell_type": "markdown",
   "metadata": {},
   "source": [
    "### generating populations of neurons with deterministic connections\n",
    "-   connected using synapse specifications for two populations of ten neurons each"
   ]
  },
  {
   "cell_type": "code",
   "execution_count": 36,
   "metadata": {},
   "outputs": [],
   "source": [
    "import pylab as pl\n",
    "import nest\n",
    "\n",
    "nest.ResetKernel()\n",
    "\n",
    "pop1 = nest.Create(\"iaf_psc_alpha\", 10)\n",
    "nest.SetStatus(pop1, {\"I_e\": 376.0})\n",
    "pop2 = nest.Create(\"iaf_psc_alpha\", 10)\n",
    "multimeter = nest.Create(\"multimeter\", 10)\n",
    "nest.SetStatus(multimeter, {\"withtime\":True, \"record_from\":[\"V_m\"]})\n",
    "\n",
    "# If no connectivity pattern is specified, the populations are \n",
    "# connected via the default rule, namely all_to_all. Each neuron\n",
    "# of pop1 is connected to every neuron in pop2, resulting in \n",
    "# 10^2 connections.\n",
    "nest.Connect(pop1, pop2, syn_spec={\"weight\":20.0})\n",
    "\n",
    "# Alternatively, the neurons can be connected with the one_to_one. \n",
    "# This means that the first neuron in pop1 is connected to the \n",
    "# first neuron in pop2, the second to the second, etc., \n",
    "# creating ten connections in total\n",
    "nest.Connect(pop1, pop2, 'one_to_one', syn_spec={'weight':20.0, 'delay':1.0})\n",
    "\n",
    "\n",
    "# the multimeters are connected using the default rule\n",
    "nest.Connect(multimeter, pop2) #\n",
    "\n",
    "# more complete guide to use Connect\n",
    "# http://www.nest-simulator.org/part-2-populations-of-neurons/connection_management\n",
    "\n",
    "# nest.Simulate(1000)\n",
    "# pl.figure(1)\n",
    "# for i in range(10):\n",
    "#     dmm = nest.GetStatus(multimeter)[i]\n",
    "#     Vms = dmm[\"events\"][\"V_m\"]\n",
    "#     ts = dmm[\"events\"][\"times\"]\n",
    "#     pl.plot(ts,Vms, label=i)\n",
    "# pl.legend()\n",
    "# pl.show()\n"
   ]
  },
  {
   "cell_type": "markdown",
   "metadata": {},
   "source": [
    "#### connecting populations with random connections\n",
    " we often want to look at networks with a sparser connectivity than all-to-all. Here we introduce four connectivity patterns which generate random connections between two populations of neurons.\n",
    " -  fixed_indegree\n",
    " -  fixed_outdegree\n",
    " -  fixed_total_number\n",
    " -  pairwise_bernoulli\n",
    " \n",
    " "
   ]
  },
  {
   "cell_type": "code",
   "execution_count": 42,
   "metadata": {},
   "outputs": [],
   "source": [
    "import pylab as pl\n",
    "import nest\n",
    "\n",
    "nest.ResetKernel()\n",
    "\n",
    "d = 1.0     # delay ms\n",
    "Je = 2.0    # weight for excitatory synapse\n",
    "Ke = 20     # indegree for exc\n",
    "Ji = -4.0   # weight for inhibitory synapse\n",
    "Ki = 12     # indegree for inh\n",
    "\n",
    "epop1 = nest.Create(\"iaf_psc_alpha\", 10)\n",
    "ipop1 = nest.Create(\"iaf_psc_alpha\", 10)\n",
    "\n",
    "conn_dict_ex = {\"rule\": \"fixed_indegree\", \"indegree\": Ke}\n",
    "conn_dict_in = {\"rule\": \"fixed_indegree\", \"indegree\": Ki}\n",
    "syn_dict_ex = {\"delay\": d, \"weight\": Je}\n",
    "syn_dict_in = {\"delay\": d, \"weight\": Ji}\n",
    "\n",
    "nest.Connect(epop1, ipop1, conn_dict_ex, syn_dict_ex)\n",
    "nest.Connect(ipop1, epop1, conn_dict_in, syn_dict_in)"
   ]
  },
  {
   "cell_type": "markdown",
   "metadata": {},
   "source": [
    "Now each neuron in the target population ipop1 has Ke incoming random connections chosen from the source population epop1 with weight Je and delay d, and each neuron in the target population epop1 has Ki incoming random connections chosen from the source population ipop1 with weight Ji and delay d.\n",
    "\n",
    "Another connectivity pattern available is **fixed_total_number**. Here n connections (keyword **N**) are created by randomly drawing source neurons from the populations pre and target neurons from the population post.\n",
    "\n",
    "When choosing the connectivity rule **pairwise_bernoulli** connections are generated by iterating through all possible source-target pairs and creating each connection with the probability p (keyword **p**).\n",
    "\n",
    "In addition to the rule specific parameters indegree, outdegree, N and p, the **conn_spec** can contain the keywords **autapses** and **multapses** (set to False or True) allowing or forbidding self-connections and <font color='red'> multiple connections </font> between two neurons, respectively."
   ]
  },
  {
   "cell_type": "markdown",
   "metadata": {},
   "source": [
    "### Specifying the behaviour of devices\n",
    "creates a poisson_generator which is only active between 100 and 150ms"
   ]
  },
  {
   "cell_type": "code",
   "execution_count": 41,
   "metadata": {},
   "outputs": [],
   "source": [
    "pg = nest.Create(\"poisson_generator\")\n",
    "nest.SetStatus(pg, {\"start\": 100.0, \"stop\": 150.0})"
   ]
  },
  {
   "cell_type": "markdown",
   "metadata": {},
   "source": [
    "### accessed the data recorded by devices\n",
    "-  to_memory (default: True),\n",
    "-  to_file (default: False) \n",
    "-  to_screen (default: False)\n",
    "\n",
    "more information at [RecordingDevice](http://www.nest-simulator.org/helpindex/cc/RecordingDevice.html)"
   ]
  },
  {
   "cell_type": "code",
   "execution_count": 44,
   "metadata": {},
   "outputs": [],
   "source": [
    "recdict = {\"to_memory\" : False, \"to_file\" : True, \"label\" : \"epop_mp\"} # label is output filename\n",
    "mm1 = nest.Create(\"multimeter\", params=recdict)"
   ]
  },
  {
   "cell_type": "code",
   "execution_count": null,
   "metadata": {},
   "outputs": [],
   "source": []
  }
 ],
 "metadata": {
  "kernelspec": {
   "display_name": "Python 2",
   "language": "python",
   "name": "python2"
  },
  "language_info": {
   "codemirror_mode": {
    "name": "ipython",
    "version": 2
   },
   "file_extension": ".py",
   "mimetype": "text/x-python",
   "name": "python",
   "nbconvert_exporter": "python",
   "pygments_lexer": "ipython2",
   "version": "2.7.12"
  }
 },
 "nbformat": 4,
 "nbformat_minor": 2
}
